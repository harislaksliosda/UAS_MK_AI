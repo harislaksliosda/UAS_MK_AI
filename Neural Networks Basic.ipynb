{
 "cells": [
  {
   "cell_type": "markdown",
   "metadata": {},
   "source": [
    "<img src='https://blogs.cornell.edu/info2040/files/2015/09/VqOpE-1c4xc4y.jpg'>\n",
    "         "
   ]
  },
  {
   "cell_type": "code",
   "execution_count": 64,
   "metadata": {},
   "outputs": [
    {
     "name": "stdout",
     "output_type": "stream",
     "text": [
      "x1: 2\n",
      "x2: 4\n",
      "x3: 7\n",
      "y: 20\n"
     ]
    }
   ],
   "source": [
    "x1 = 2\n",
    "x2 = 4\n",
    "x3 = 7\n",
    "\n",
    "y = 20 #target\n",
    "\n",
    "print('x1:', x1)\n",
    "print('x2:', x2)\n",
    "print('x3:', x3)\n",
    "print('y:', y)"
   ]
  },
  {
   "cell_type": "code",
   "execution_count": 65,
   "metadata": {},
   "outputs": [],
   "source": [
    "b = 1\n",
    "w1 = 3\n",
    "w2 = 4\n",
    "w3 = -1"
   ]
  },
  {
   "cell_type": "code",
   "execution_count": 66,
   "metadata": {},
   "outputs": [
    {
     "data": {
      "text/plain": [
       "16"
      ]
     },
     "execution_count": 66,
     "metadata": {},
     "output_type": "execute_result"
    }
   ],
   "source": [
    "y_ = b + (x1*w1 + x2*w2 + x3*w3)\n",
    "y_"
   ]
  },
  {
   "cell_type": "code",
   "execution_count": 67,
   "metadata": {},
   "outputs": [
    {
     "name": "stdout",
     "output_type": "stream",
     "text": [
      "4\n"
     ]
    }
   ],
   "source": [
    "error = y - y_\n",
    "print(error)"
   ]
  },
  {
   "cell_type": "code",
   "execution_count": null,
   "metadata": {},
   "outputs": [],
   "source": [
    "#optimizer"
   ]
  },
  {
   "cell_type": "markdown",
   "metadata": {},
   "source": [
    "## Perceptron "
   ]
  },
  {
   "cell_type": "markdown",
   "metadata": {},
   "source": [
    "### Respon Unit & Aktivasi "
   ]
  },
  {
   "cell_type": "markdown",
   "metadata": {},
   "source": [
    "<img src='img/perceptron.jpg'>"
   ]
  },
  {
   "cell_type": "code",
   "execution_count": 68,
   "metadata": {},
   "outputs": [],
   "source": [
    "#treshold\n",
    "ø = 0.5"
   ]
  },
  {
   "cell_type": "code",
   "execution_count": 69,
   "metadata": {},
   "outputs": [],
   "source": [
    "import matplotlib.pyplot as plt\n",
    "import numpy as np\n",
    "\n",
    "x = np.linspace(-2,2,100)\n",
    "y = []\n",
    "def aktivasi(x):\n",
    "    \n",
    "    if i < -ø:\n",
    "        y = -1\n",
    "    elif i > ø:\n",
    "        y = 1\n",
    "    else:\n",
    "        y = 0\n",
    "    return y\n",
    "\n",
    "for i in x:\n",
    "    y_ = aktivasi(i)\n",
    "    y.append(y_)\n"
   ]
  },
  {
   "cell_type": "code",
   "execution_count": null,
   "metadata": {},
   "outputs": [],
   "source": []
  },
  {
   "cell_type": "code",
   "execution_count": 53,
   "metadata": {},
   "outputs": [
    {
     "data": {
      "image/png": "[encoded data removed]",
      "text/plain": [
       "<Figure size 432x288 with 1 Axes>"
      ]
     },
     "metadata": {},
     "output_type": "display_data"
    }
   ],
   "source": [
    "plt.plot(x, y)\n",
    "plt.grid()"
   ]
  },
  {
   "cell_type": "markdown",
   "metadata": {},
   "source": [
    "### Optimasi"
   ]
  },
  {
   "cell_type": "markdown",
   "metadata": {},
   "source": [
    "<div>'Apabila y_pred != y_target</div>\n",
    "<div> 'wn(baru) = wn(lama) + learning_rate * target * xn' </div>\n",
    "<div> 'b(baru) = b(lama) + learning_rate * target' </div>\n",
    "<div>'Apabila y_pred == y_target</div>\n",
    "<div>wn(baru)= wn(lama)</div>\n",
    "<div>b(baru) = b(lama)</div>"
   ]
  },
  {
   "cell_type": "code",
   "execution_count": null,
   "metadata": {},
   "outputs": [],
   "source": []
  },
  {
   "cell_type": "code",
   "execution_count": 84,
   "metadata": {},
   "outputs": [
    {
     "name": "stdout",
     "output_type": "stream",
     "text": [
      "4\n"
     ]
    }
   ],
   "source": [
    "x1 = [0, 0, 1, 1]\n",
    "x2 = [0, 1, 0, 1]\n",
    "y_target = [-1, 1, 1, 1]\n",
    "learning_rate = 1\n",
    "ø = 0.5 #treshold\n",
    "epochs = 6\n",
    "data = len(x1)\n",
    "\n",
    "w1 = 0\n",
    "w2 = 0\n",
    "b = 0\n",
    "print(data)\n"
   ]
  },
  {
   "cell_type": "code",
   "execution_count": 85,
   "metadata": {},
   "outputs": [
    {
     "name": "stdout",
     "output_type": "stream",
     "text": [
      "[0, -1, 0, 1]\n",
      "[1, 1, 1, 1]\n",
      "[0, 0, 1, 1]\n",
      "[0, 1, 0, 1]\n",
      "[0, 1, 1, 1]\n",
      "[-1, 1, 1, 1]\n"
     ]
    }
   ],
   "source": [
    "for i in range(epochs):\n",
    "    y_pred = []\n",
    "    for j in range(data):\n",
    "#         penjumlahan\n",
    "        net = b +(x1[j]*w1 + x2[j]*w2)\n",
    "#         print(net)      \n",
    "        #Aktivasi\n",
    "        if net < -ø:\n",
    "            y_ = -1\n",
    "        elif net > ø:\n",
    "            y_ = 1\n",
    "        else:\n",
    "            y_ = 0\n",
    "        \n",
    "        if y_!= y_target[j]:\n",
    "            w1 = w1 + learning_rate * y_target[j] * x1[j]\n",
    "            w2 = w2 + learning_rate * y_target[j]* x2[j]\n",
    "            b = b + learning_rate*y_target[j]\n",
    "        y_pred.append(y_)\n",
    "    print(y_pred)\n",
    "\n",
    "\n",
    "        "
   ]
  },
  {
   "cell_type": "code",
   "execution_count": 11,
   "metadata": {},
   "outputs": [
    {
     "data": {
      "text/plain": [
       "[-1, 1, 1, 1]"
      ]
     },
     "execution_count": 11,
     "metadata": {},
     "output_type": "execute_result"
    }
   ],
   "source": [
    "y_pred"
   ]
  },
  {
   "cell_type": "code",
   "execution_count": 86,
   "metadata": {},
   "outputs": [
    {
     "name": "stdout",
     "output_type": "stream",
     "text": [
      "2 2 -1\n"
     ]
    }
   ],
   "source": [
    "print(w1, w2, b)"
   ]
  },
  {
   "cell_type": "code",
   "execution_count": 87,
   "metadata": {},
   "outputs": [
    {
     "name": "stdout",
     "output_type": "stream",
     "text": [
      "-1\n"
     ]
    }
   ],
   "source": [
    "x1 = -3\n",
    "x2 = -2.5\n",
    "\n",
    "y_pred = b +(x1*w1)+(x2*w2)\n",
    "if y_pred < -ø:\n",
    "    y_pred = -1\n",
    "elif y_pred > ø:\n",
    "    y_pred = 1\n",
    "else:\n",
    "    y_pred = 0\n",
    "print(y_pred)"
   ]
  },
  {
   "cell_type": "code",
   "execution_count": null,
   "metadata": {},
   "outputs": [],
   "source": []
  },
  {
   "cell_type": "code",
   "execution_count": null,
   "metadata": {},
   "outputs": [],
   "source": []
  }
 ],
 "metadata": {
  "kernelspec": {
   "display_name": "Python 3",
   "language": "python",
   "name": "python3"
  },
  "language_info": {
   "codemirror_mode": {
    "name": "ipython",
    "version": 3
   },
   "file_extension": ".py",
   "mimetype": "text/x-python",
   "name": "python",
   "nbconvert_exporter": "python",
   "pygments_lexer": "ipython3",
   "version": "3.6.5"
  }
 },
 "nbformat": 4,
 "nbformat_minor": 2
}
